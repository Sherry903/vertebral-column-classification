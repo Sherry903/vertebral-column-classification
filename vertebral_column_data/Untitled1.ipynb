{
 "cells": [
  {
   "cell_type": "code",
   "execution_count": 1,
   "id": "3eaf8508",
   "metadata": {},
   "outputs": [
    {
     "name": "stdout",
     "output_type": "stream",
     "text": [
      "列名: ['p', 'p', 'l', 's', 'p', 'd', 'c']\n",
      "数据类型:\n",
      " p    object\n",
      "p    object\n",
      "l    object\n",
      "s    object\n",
      "p    object\n",
      "d    object\n",
      "c    object\n",
      "dtype: object\n"
     ]
    }
   ],
   "source": [
    "from scipy.io import arff\n",
    "import pandas as pd\n",
    "\n",
    "# 加载数据并解析列名\n",
    "data_2c, meta_2c = arff.loadarff('column_2C_weka.arff')\n",
    "columns = [attr[0] for attr in meta_2c._attributes]  # 获取列名\n",
    "df_2c = pd.DataFrame(data_2c, columns=columns)\n",
    "\n",
    "# 查看列名和数据类型\n",
    "print(\"列名:\", df_2c.columns.tolist())\n",
    "print(\"数据类型:\\n\", df_2c.dtypes)"
   ]
  },
  {
   "cell_type": "code",
   "execution_count": 3,
   "id": "da5f1ff7",
   "metadata": {},
   "outputs": [],
   "source": [
    "correct_columns = [\n",
    "    'pelvic_incidence',    # 骨盆入射角\n",
    "    'pelvic_tilt',         # 骨盆倾斜角\n",
    "    'lumbar_lordosis_angle',  # 腰椎前凸角度\n",
    "    'sacral_slope',        # 骶骨斜率\n",
    "    'pelvic_radius',       # 骨盆半径\n",
    "    'degree_spondylolisthesis',  # 脊椎滑脱程度\n",
    "    'class'                # 类别标签\n",
    "]\n",
    "\n",
    "# 将列名替换为正确的名称\n",
    "df_2c.columns = correct_columns"
   ]
  },
  {
   "cell_type": "code",
   "execution_count": 4,
   "id": "62f83759",
   "metadata": {},
   "outputs": [],
   "source": [
    "# 转换前六列为浮点数\n",
    "for col in correct_columns[:-1]:\n",
    "    df_2c[col] = df_2c[col].astype(float)\n",
    "\n",
    "# 转换标签列：将字节字符串解码为普通字符串，再映射为0/1\n",
    "df_2c['class'] = df_2c['class'].str.decode('utf-8')\n",
    "df_2c['class'] = df_2c['class'].map({\n",
    "    'NO': 0,    # 正常\n",
    "    'AB': 1,    # 异常\n",
    "    'DH': 1,    # 异常（椎间盘突出）\n",
    "    'SL': 1     # 异常（脊椎滑脱）\n",
    "})\n",
    "\n",
    "# 删除可能存在的缺失值（如有）\n",
    "df_2c = df_2c.dropna()"
   ]
  },
  {
   "cell_type": "code",
   "execution_count": 5,
   "id": "8348a5fb",
   "metadata": {},
   "outputs": [
    {
     "name": "stdout",
     "output_type": "stream",
     "text": [
      "修复后的列名: ['pelvic_incidence', 'pelvic_tilt', 'lumbar_lordosis_angle', 'sacral_slope', 'pelvic_radius', 'degree_spondylolisthesis', 'class']\n",
      "数据类型:\n",
      " pelvic_incidence            float64\n",
      "pelvic_tilt                 float64\n",
      "lumbar_lordosis_angle       float64\n",
      "sacral_slope                float64\n",
      "pelvic_radius               float64\n",
      "degree_spondylolisthesis    float64\n",
      "class                       float64\n",
      "dtype: object\n",
      "\n",
      "前五行数据:\n",
      " Empty DataFrame\n",
      "Columns: [pelvic_incidence, pelvic_tilt, lumbar_lordosis_angle, sacral_slope, pelvic_radius, degree_spondylolisthesis, class]\n",
      "Index: []\n"
     ]
    }
   ],
   "source": [
    "print(\"修复后的列名:\", df_2c.columns.tolist())\n",
    "print(\"数据类型:\\n\", df_2c.dtypes)\n",
    "print(\"\\n前五行数据:\\n\", df_2c.head())"
   ]
  },
  {
   "cell_type": "code",
   "execution_count": null,
   "id": "cd747dd4",
   "metadata": {},
   "outputs": [],
   "source": []
  }
 ],
 "metadata": {
  "kernelspec": {
   "display_name": "Python 3 (ipykernel)",
   "language": "python",
   "name": "python3"
  },
  "language_info": {
   "codemirror_mode": {
    "name": "ipython",
    "version": 3
   },
   "file_extension": ".py",
   "mimetype": "text/x-python",
   "name": "python",
   "nbconvert_exporter": "python",
   "pygments_lexer": "ipython3",
   "version": "3.11.5"
  }
 },
 "nbformat": 4,
 "nbformat_minor": 5
}
